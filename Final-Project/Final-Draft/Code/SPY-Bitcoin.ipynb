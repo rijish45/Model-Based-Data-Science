{
 "cells": [
  {
   "cell_type": "code",
   "execution_count": null,
   "metadata": {
    "ExecuteTime": {
     "end_time": "2019-12-16T01:14:16.694120Z",
     "start_time": "2019-12-16T01:14:16.685939Z"
    }
   },
   "outputs": [],
   "source": [
    "import numpy as np\n",
    "import pandas as pd\n",
    "import scipy\n",
    "import statsmodels.api as sm\n",
    "import matplotlib.pyplot as pl\n",
    "from pandas_datareader.data import DataReader\n",
    "from statsmodels import regression\n",
    "from pylab import rcParams\n",
    "rcParams['figure.figsize'] = 10, 5\n"
   ]
  },
  {
   "cell_type": "code",
   "execution_count": null,
   "metadata": {
    "ExecuteTime": {
     "end_time": "2019-12-16T01:10:54.170386Z",
     "start_time": "2019-12-16T01:10:54.148563Z"
    }
   },
   "outputs": [],
   "source": [
    "def linear_regression(x,y):\n",
    "    x = sm.add_constant(x)\n",
    "    model = regression.linear_model.OLS(y,x).fit()\n",
    "    x = x[:, 1]\n",
    "    return model.params[0], model.params[1]"
   ]
  },
  {
   "cell_type": "code",
   "execution_count": null,
   "metadata": {
    "ExecuteTime": {
     "end_time": "2019-12-16T01:51:31.463750Z",
     "start_time": "2019-12-16T01:51:31.459683Z"
    }
   },
   "outputs": [],
   "source": [
    "BTC = DataReader('BTC-USD',  'yahoo', '2015-01-01', '2018-12-01')\n",
    "SPY = DataReader('SPY',  'yahoo', '2015-01-01', '2018-12-01')\n",
    "BTC_return_monthly = BTC.groupby(pd.Grouper(freq='MS'))['Adj Close'].mean()\n",
    "BTC_return_monthly = BTC_return_monthly.pct_change()[1:]\n",
    "SPY_return_monthly = SPY.groupby(pd.Grouper(freq='MS'))['Adj Close'].mean()\n",
    "SPY_return_monthly = SPY_return_monthly.pct_change()[1:]\n",
    "SPY_return_monthly.plot(label = \"SPY\")\n",
    "BTC_return_monthly.plot(label = \"BTC\")\n",
    "pl.ylabel(\"Monthly Return of SPY and BTC\")\n",
    "pl.legend(loc=\"upper left\")\n",
    "pl.show()\n"
   ]
  },
  {
   "cell_type": "code",
   "execution_count": null,
   "metadata": {
    "ExecuteTime": {
     "end_time": "2019-12-16T01:24:44.690842Z",
     "start_time": "2019-12-16T01:24:44.682833Z"
    }
   },
   "outputs": [],
   "source": [
    "BTC_return_monthly = BTC_return_monthly[:46]\n",
    "if BTC_return_monthly.shape == SPY_return_monthly.shape:\n",
    "    pass\n",
    "else:\n",
    "    raise exception(\"Shapes don't match.\")"
   ]
  },
  {
   "cell_type": "code",
   "execution_count": null,
   "metadata": {
    "ExecuteTime": {
     "end_time": "2019-12-16T01:24:48.415947Z",
     "start_time": "2019-12-16T01:24:48.070727Z"
    }
   },
   "outputs": [],
   "source": [
    "X = SPY_return_monthly.values\n",
    "Y = BTC_return_monthly.values\n",
    "Alpha, Beta = linear_regression(X,Y)\n",
    "X2 = np.linspace(X.min(), X.max(), 100)\n",
    "Y_tilda = X2* Beta + Alpha\n",
    "pl.scatter(X,Y, alpha = 0.3)\n",
    "pl.xlabel(\"SPY Monthly return\")\n",
    "pl.ylabel(\"BTC Monthly return\")\n",
    "pl.plot(X2, Y_tilda, 'r', alpha = 0.9)\n",
    "pl.show()\n",
    "\n",
    "Slope, Intercept, R_Value, P_Value, Std_Err = scipy.stats.linregress(X, Y)\n",
    "print(\"Alpha = \" + str(Alpha) + \"\\n\")\n",
    "print(\"R_Value = \" +  str(R_Value) + \"\\n\")\n",
    "print(\"Slope = \" +   str(Slope) + \"\\n\")\n",
    "print(\"Std_Err = \" +  str(Std_Err) + \"\\n\")"
   ]
  },
  {
   "cell_type": "code",
   "execution_count": null,
   "metadata": {
    "ExecuteTime": {
     "end_time": "2019-12-16T01:26:17.817790Z",
     "start_time": "2019-12-16T01:24:52.942240Z"
    }
   },
   "outputs": [],
   "source": [
    "import pymc3 as pm\n",
    "lin_model = pm.Model()\n",
    "\n",
    "with lin_model:\n",
    "    intercept = pm.Normal('intercept',mu=0, sd = 20)\n",
    "    beta = pm.Normal('beta',0, sd = 20)\n",
    "    sigma = pm.HalfCauchy('sigma', beta = 10)\n",
    "    likelihood = pm.Normal('Y', mu = intercept + beta * X, sd = sigma, observed = Y)\n",
    "    trace = pm.sample(3000)"
   ]
  },
  {
   "cell_type": "code",
   "execution_count": null,
   "metadata": {
    "ExecuteTime": {
     "end_time": "2019-12-16T01:26:36.372911Z",
     "start_time": "2019-12-16T01:26:34.746816Z"
    }
   },
   "outputs": [],
   "source": [
    "pl.figure(figsize=(7, 7))\n",
    "pm.traceplot(trace[100:])\n",
    "pl.tight_layout();"
   ]
  },
  {
   "cell_type": "code",
   "execution_count": null,
   "metadata": {
    "ExecuteTime": {
     "end_time": "2019-12-16T01:26:40.880875Z",
     "start_time": "2019-12-16T01:26:39.855040Z"
    }
   },
   "outputs": [],
   "source": [
    "pm.plot_posterior(trace)"
   ]
  },
  {
   "cell_type": "code",
   "execution_count": null,
   "metadata": {
    "ExecuteTime": {
     "end_time": "2019-12-16T01:28:13.190350Z",
     "start_time": "2019-12-16T01:28:12.525058Z"
    }
   },
   "outputs": [],
   "source": [
    "import numpy as np\n",
    "n_samples = 500\n",
    "x_range = np.linspace(X.min(),X.max())\n",
    "for i in np.arange(n_samples,step=10):\n",
    "    yhat = trace['intercept'][i] + trace['beta'][i] * x_range\n",
    "    pl.plot(x_range,yhat,color='k',alpha = 0.2)\n",
    "    pl.scatter(X,Y,color='r',marker='+')\n",
    "    pl.ylabel('BTC monthly return')\n",
    "    pl.xlabel('SPY monthly return')\n",
    "\n",
    "    "
   ]
  },
  {
   "cell_type": "code",
   "execution_count": null,
   "metadata": {
    "ExecuteTime": {
     "end_time": "2019-12-06T00:23:05.508360Z",
     "start_time": "2019-12-06T00:22:58.953Z"
    }
   },
   "outputs": [],
   "source": [
    "pm.summary(trace)"
   ]
  },
  {
   "cell_type": "code",
   "execution_count": null,
   "metadata": {
    "ExecuteTime": {
     "end_time": "2019-12-06T00:23:05.512913Z",
     "start_time": "2019-12-06T00:22:58.957Z"
    }
   },
   "outputs": [],
   "source": [
    "pm.forestplot(trace)"
   ]
  },
  {
   "cell_type": "code",
   "execution_count": null,
   "metadata": {
    "ExecuteTime": {
     "end_time": "2019-12-06T00:23:05.515162Z",
     "start_time": "2019-12-06T00:22:58.961Z"
    }
   },
   "outputs": [],
   "source": [
    "diverging = trace['diverging']\n",
    "print('Number of Divergent Chains: {}'.format(diverging.nonzero()[0].size))\n",
    "diverging_perc = diverging.nonzero()[0].size / len(trace) * 100\n",
    "print('Percentage of Divergent Chains: {:.1f}'.format(diverging_perc))"
   ]
  },
  {
   "cell_type": "code",
   "execution_count": null,
   "metadata": {
    "ExecuteTime": {
     "end_time": "2019-12-06T00:26:21.226824Z",
     "start_time": "2019-12-06T00:26:20.668925Z"
    }
   },
   "outputs": [],
   "source": [
    "pm.stats.waic(trace, model= lin_model, pointwise= False, progressbar=False)"
   ]
  },
  {
   "cell_type": "code",
   "execution_count": null,
   "metadata": {},
   "outputs": [],
   "source": []
  }
 ],
 "metadata": {
  "kernelspec": {
   "display_name": "Python 3",
   "language": "python",
   "name": "python3"
  },
  "language_info": {
   "codemirror_mode": {
    "name": "ipython",
    "version": 3
   },
   "file_extension": ".py",
   "mimetype": "text/x-python",
   "name": "python",
   "nbconvert_exporter": "python",
   "pygments_lexer": "ipython3",
   "version": "3.7.3"
  },
  "toc": {
   "base_numbering": 1,
   "nav_menu": {},
   "number_sections": true,
   "sideBar": true,
   "skip_h1_title": false,
   "title_cell": "Table of Contents",
   "title_sidebar": "Contents",
   "toc_cell": false,
   "toc_position": {},
   "toc_section_display": true,
   "toc_window_display": false
  },
  "varInspector": {
   "cols": {
    "lenName": 16,
    "lenType": 16,
    "lenVar": 40
   },
   "kernels_config": {
    "python": {
     "delete_cmd_postfix": "",
     "delete_cmd_prefix": "del ",
     "library": "var_list.py",
     "varRefreshCmd": "print(var_dic_list())"
    },
    "r": {
     "delete_cmd_postfix": ") ",
     "delete_cmd_prefix": "rm(",
     "library": "var_list.r",
     "varRefreshCmd": "cat(var_dic_list()) "
    }
   },
   "types_to_exclude": [
    "module",
    "function",
    "builtin_function_or_method",
    "instance",
    "_Feature"
   ],
   "window_display": false
  }
 },
 "nbformat": 4,
 "nbformat_minor": 2
}
