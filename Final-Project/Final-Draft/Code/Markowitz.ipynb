{
 "cells": [
  {
   "cell_type": "code",
   "execution_count": null,
   "metadata": {
    "ExecuteTime": {
     "end_time": "2019-11-12T23:27:43.182789Z",
     "start_time": "2019-11-12T23:27:41.317652Z"
    },
    "scrolled": true
   },
   "outputs": [],
   "source": [
    "import pandas as pd\n",
    "import numpy as np\n",
    "import matplotlib.pyplot as plt\n",
    "from pandas_datareader import data as pdr\n",
    "import cvxopt as opt\n",
    "import yfinance as yf"
   ]
  },
  {
   "cell_type": "code",
   "execution_count": null,
   "metadata": {
    "ExecuteTime": {
     "end_time": "2019-11-11T01:16:51.654218Z",
     "start_time": "2019-11-11T01:16:41.217475Z"
    }
   },
   "outputs": [],
   "source": [
    "'''\n",
    "Get daily returns for 13 random stocks\n",
    "'''\n",
    "GOOG = pdr.get_data_yahoo(\"GOOG\", start = \"2016-01-01\", end = \"2017-01-01\")\n",
    "return_GOOG = GOOG.Close.pct_change()[1:]\n",
    "AAPL = pdr.get_data_yahoo(\"AAPL\", start = \"2016-01-01\", end = \"2017-01-01\")\n",
    "return_AAPL = AAPL.Close.pct_change()[1:]\n",
    "INTC = pdr.get_data_yahoo(\"INTC\", start = \"2016-01-01\", end = \"2017-01-01\")\n",
    "return_INTC = INTC.Close.pct_change()[1:]\n",
    "CAT = pdr.get_data_yahoo(\"CAT\", start = \"2016-01-01\", end = \"2017-01-01\")\n",
    "return_CAT = CAT.Close.pct_change()[1:]\n",
    "JNJ = pdr.get_data_yahoo(\"JNJ\", start = \"2016-01-01\", end = \"2017-01-01\")\n",
    "return_JNJ = JNJ.Close.pct_change()[1:]\n",
    "TWLO = pdr.get_data_yahoo(\"TWLO\", start = \"2016-01-01\", end = \"2017-01-01\")\n",
    "return_TWLO = TWLO.Close.pct_change()[1:]\n",
    "FB = pdr.get_data_yahoo(\"FB\", start = \"2016-01-01\", end = \"2017-01-01\")\n",
    "return_FB = FB.Close.pct_change()[1:]\n",
    "GS = pdr.get_data_yahoo(\"GS\", start = \"2016-01-01\", end = \"2017-01-01\")\n",
    "return_GS = GS.Close.pct_change()[1:]\n",
    "KL = pdr.get_data_yahoo(\"KL\", start = \"2016-01-01\", end = \"2017-01-01\")\n",
    "return_KL = KL.Close.pct_change()[1:]\n",
    "AMD = pdr.get_data_yahoo(\"AMD\", start = \"2016-01-01\", end = \"2017-01-01\")\n",
    "return_AMD = AMD.Close.pct_change()[1:]\n",
    "PFE = pdr.get_data_yahoo(\"PFE\", start = \"2016-01-01\", end = \"2017-01-01\")\n",
    "return_PFE = PFE.Close.pct_change()[1:]\n",
    "BAC = pdr.get_data_yahoo(\"BAC\", start = \"2016-01-01\", end = \"2017-01-01\")\n",
    "return_BAC = BAC.Close.pct_change()[1:]\n",
    "QCOM = pdr.get_data_yahoo(\"QCOM\", start = \"2016-01-01\", end = \"2017-01-01\")\n",
    "return_QCOM = QCOM.Close.pct_change()[1:]"
   ]
  },
  {
   "cell_type": "code",
   "execution_count": null,
   "metadata": {
    "ExecuteTime": {
     "end_time": "2019-11-11T01:25:19.668176Z",
     "start_time": "2019-11-11T01:25:18.959370Z"
    }
   },
   "outputs": [],
   "source": [
    "BTC = pdr.get_data_yahoo(\"BTC-USD\", start = \"2016-01-01\", end = \"2017-01-01\")\n",
    "return_BTC = BTC.Close.pct_change()[1:]"
   ]
  },
  {
   "cell_type": "code",
   "execution_count": null,
   "metadata": {
    "ExecuteTime": {
     "end_time": "2019-11-11T01:25:26.213493Z",
     "start_time": "2019-11-11T01:25:26.203086Z"
    }
   },
   "outputs": [],
   "source": [
    "return_BTC.shape"
   ]
  },
  {
   "cell_type": "code",
   "execution_count": null,
   "metadata": {
    "ExecuteTime": {
     "end_time": "2019-11-11T01:57:11.540673Z",
     "start_time": "2019-11-11T01:57:11.530827Z"
    }
   },
   "outputs": [],
   "source": [
    "selected = ['GOOGL','AAPL', 'INTC', 'CAT', 'JNJ', 'FB', 'TWLO', 'KL', 'QCOM', 'GS', 'AMD', 'PFE', 'BAC', 'BTC']"
   ]
  },
  {
   "cell_type": "code",
   "execution_count": null,
   "metadata": {
    "ExecuteTime": {
     "end_time": "2019-11-11T02:02:41.864860Z",
     "start_time": "2019-11-11T02:02:41.816948Z"
    },
    "code_folding": []
   },
   "outputs": [],
   "source": [
    "returns_daily = pd.concat([return_GOOG, return_AAPL, return_INTC, \n",
    "                           return_CAT, return_JNJ, return_FB, return_TWLO, \n",
    "                           return_KL, return_QCOM, return_GS,return_AMD, return_PFE, \n",
    "                           return_BAC], axis = 1)\n",
    "returns_daily.reset_index()"
   ]
  },
  {
   "cell_type": "code",
   "execution_count": null,
   "metadata": {
    "ExecuteTime": {
     "end_time": "2019-11-11T02:03:51.832094Z",
     "start_time": "2019-11-11T02:03:51.762033Z"
    }
   },
   "outputs": [],
   "source": [
    "returns_daily = pd.merge(returns_daily, return_BTC, on='Date', how='inner')\n",
    "returns_daily"
   ]
  },
  {
   "cell_type": "code",
   "execution_count": null,
   "metadata": {
    "ExecuteTime": {
     "end_time": "2019-11-11T02:05:07.256240Z",
     "start_time": "2019-11-11T02:05:07.210392Z"
    }
   },
   "outputs": [],
   "source": [
    "returns_daily.columns = selected\n",
    "returns_daily"
   ]
  },
  {
   "cell_type": "code",
   "execution_count": null,
   "metadata": {
    "ExecuteTime": {
     "end_time": "2019-11-11T02:05:40.692551Z",
     "start_time": "2019-11-11T02:05:40.666721Z"
    }
   },
   "outputs": [],
   "source": [
    "returns_annual = returns_daily.mean() * 250\n",
    "cov_daily = returns_daily.cov()\n",
    "cov_annual = cov_daily * 250"
   ]
  },
  {
   "cell_type": "code",
   "execution_count": null,
   "metadata": {
    "ExecuteTime": {
     "end_time": "2019-11-11T02:06:15.501108Z",
     "start_time": "2019-11-11T02:06:15.488996Z"
    }
   },
   "outputs": [],
   "source": [
    "port_returns = []\n",
    "port_volatility = []\n",
    "stock_weights = []\n",
    "num_assets = 14\n",
    "num_portfolios = 50000"
   ]
  },
  {
   "cell_type": "code",
   "execution_count": null,
   "metadata": {
    "ExecuteTime": {
     "end_time": "2019-11-11T02:06:34.951398Z",
     "start_time": "2019-11-11T02:06:27.900635Z"
    }
   },
   "outputs": [],
   "source": [
    "for single_portfolio in range(num_portfolios):\n",
    "    weights = np.random.random(num_assets)\n",
    "    weights /= np.sum(weights)\n",
    "    returns = np.dot(weights, returns_annual)\n",
    "    volatility = np.sqrt(np.dot(weights.T, np.dot(cov_annual, weights)))\n",
    "    port_returns.append(returns)\n",
    "    port_volatility.append(volatility)\n",
    "    stock_weights.append(weights)"
   ]
  },
  {
   "cell_type": "code",
   "execution_count": null,
   "metadata": {
    "ExecuteTime": {
     "end_time": "2019-11-11T02:07:02.284570Z",
     "start_time": "2019-11-11T02:07:02.134631Z"
    }
   },
   "outputs": [],
   "source": [
    "portfolio = {'Returns': port_returns,\n",
    "             'Volatility': port_volatility}\n",
    "\n",
    "for counter,symbol in enumerate(selected):\n",
    "    portfolio[symbol +' Weight'] = [Weight[counter] for Weight in stock_weights]\n"
   ]
  },
  {
   "cell_type": "code",
   "execution_count": null,
   "metadata": {
    "ExecuteTime": {
     "end_time": "2019-11-11T02:07:29.573820Z",
     "start_time": "2019-11-11T02:07:29.441906Z"
    }
   },
   "outputs": [],
   "source": [
    "df = pd.DataFrame(portfolio)\n",
    "column_order = ['Returns', 'Volatility'] + [stock +' Weight' for stock in selected]\n",
    "df = df[column_order]\n",
    "results_min_volatility = df.iloc[df['Volatility'].idxmin()]\n",
    "result_max_return = df.iloc[df['Returns'].idxmax()]"
   ]
  },
  {
   "cell_type": "code",
   "execution_count": null,
   "metadata": {
    "ExecuteTime": {
     "end_time": "2019-11-11T02:08:57.238937Z",
     "start_time": "2019-11-11T02:08:56.521537Z"
    }
   },
   "outputs": [],
   "source": [
    "print(results_min_volatility)\n",
    "plt.style.use('seaborn')\n",
    "df.plot.scatter(x='Volatility', y='Returns', grid=True)\n",
    "plt.xlabel('Volatility (Std. Deviation)')\n",
    "plt.ylabel('Expected Returns')\n",
    "plt.title('Efficient Frontier')\n",
    "plt.show()"
   ]
  },
  {
   "cell_type": "code",
   "execution_count": null,
   "metadata": {
    "ExecuteTime": {
     "end_time": "2019-11-12T23:27:52.494449Z",
     "start_time": "2019-11-12T23:27:51.804617Z"
    }
   },
   "outputs": [],
   "source": [
    "GOOG = pdr.get_data_yahoo(\"GOOG\", start = \"2016-01-01\", end = \"2017-01-01\")\n",
    "GOOG"
   ]
  },
  {
   "cell_type": "code",
   "execution_count": null,
   "metadata": {
    "scrolled": true
   },
   "outputs": [],
   "source": []
  }
 ],
 "metadata": {
  "kernelspec": {
   "display_name": "Python 3",
   "language": "python",
   "name": "python3"
  },
  "language_info": {
   "codemirror_mode": {
    "name": "ipython",
    "version": 3
   },
   "file_extension": ".py",
   "mimetype": "text/x-python",
   "name": "python",
   "nbconvert_exporter": "python",
   "pygments_lexer": "ipython3",
   "version": "3.7.3"
  },
  "toc": {
   "base_numbering": 1,
   "nav_menu": {},
   "number_sections": true,
   "sideBar": true,
   "skip_h1_title": false,
   "title_cell": "Table of Contents",
   "title_sidebar": "Contents",
   "toc_cell": false,
   "toc_position": {},
   "toc_section_display": true,
   "toc_window_display": false
  },
  "varInspector": {
   "cols": {
    "lenName": 16,
    "lenType": 16,
    "lenVar": 40
   },
   "kernels_config": {
    "python": {
     "delete_cmd_postfix": "",
     "delete_cmd_prefix": "del ",
     "library": "var_list.py",
     "varRefreshCmd": "print(var_dic_list())"
    },
    "r": {
     "delete_cmd_postfix": ") ",
     "delete_cmd_prefix": "rm(",
     "library": "var_list.r",
     "varRefreshCmd": "cat(var_dic_list()) "
    }
   },
   "types_to_exclude": [
    "module",
    "function",
    "builtin_function_or_method",
    "instance",
    "_Feature"
   ],
   "window_display": false
  }
 },
 "nbformat": 4,
 "nbformat_minor": 2
}
