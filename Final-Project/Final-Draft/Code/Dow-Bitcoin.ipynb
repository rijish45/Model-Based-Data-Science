{
 "cells": [
  {
   "cell_type": "code",
   "execution_count": null,
   "metadata": {
    "ExecuteTime": {
     "end_time": "2019-12-16T01:31:03.301047Z",
     "start_time": "2019-12-16T01:31:03.236299Z"
    }
   },
   "outputs": [],
   "source": [
    "import numpy as np\n",
    "import pandas as pd\n",
    "import scipy\n",
    "import statsmodels.api as sm\n",
    "import matplotlib.pyplot as pl\n",
    "from pandas_datareader.data import DataReader\n",
    "from statsmodels import regression\n",
    "from pylab import rcParams\n",
    "rcParams['figure.figsize'] = 10, 5"
   ]
  },
  {
   "cell_type": "code",
   "execution_count": null,
   "metadata": {
    "ExecuteTime": {
     "end_time": "2019-12-16T01:31:05.563865Z",
     "start_time": "2019-12-16T01:31:05.555816Z"
    }
   },
   "outputs": [],
   "source": [
    "def linear_regression(x,y):\n",
    "    x = sm.add_constant(x)\n",
    "    model = regression.linear_model.OLS(y,x).fit()\n",
    "    x = x[:, 1]\n",
    "    return model.params[0], model.params[1]"
   ]
  },
  {
   "cell_type": "code",
   "execution_count": null,
   "metadata": {
    "ExecuteTime": {
     "end_time": "2019-12-16T01:31:29.621704Z",
     "start_time": "2019-12-16T01:31:27.688437Z"
    }
   },
   "outputs": [],
   "source": [
    "BTC = DataReader('BTC-USD',  'yahoo', '2015-01-01', '2018-12-01')\n",
    "DOW = DataReader('^DJI',  'yahoo', '2015-01-01', '2018-12-01')\n",
    "BTC_return_monthly = BTC.groupby(pd.Grouper(freq='MS'))['Adj Close'].mean()\n",
    "BTC_return_monthly = BTC_return_monthly.pct_change()[1:]\n",
    "DOW_return_monthly = DOW.groupby(pd.Grouper(freq='MS'))['Adj Close'].mean()\n",
    "DOW_return_monthly = DOW_return_monthly.pct_change()[1:]\n",
    "DOW_return_monthly.plot(label = \"DJIA\")\n",
    "BTC_return_monthly.plot(label = \"SPY\")\n",
    "pl.ylabel(\"Monthly Return of Dow-Jones and BTC\")\n",
    "pl.legend(loc=\"upper left\")\n",
    "pl.show()"
   ]
  },
  {
   "cell_type": "code",
   "execution_count": null,
   "metadata": {
    "ExecuteTime": {
     "end_time": "2019-12-16T01:40:02.425196Z",
     "start_time": "2019-12-16T01:40:02.416953Z"
    }
   },
   "outputs": [],
   "source": [
    "BTC_return_monthly = BTC_return_monthly[:46]\n",
    "if BTC_return_monthly.shape == DOW_return_monthly.shape:\n",
    "    pass\n",
    "else:\n",
    "    raise exception(\"Shapes don't match.\")"
   ]
  },
  {
   "cell_type": "code",
   "execution_count": null,
   "metadata": {
    "ExecuteTime": {
     "end_time": "2019-12-06T01:10:03.861409Z",
     "start_time": "2019-12-06T01:10:03.849942Z"
    }
   },
   "outputs": [],
   "source": [
    "BTC_return_monthly"
   ]
  },
  {
   "cell_type": "code",
   "execution_count": null,
   "metadata": {
    "ExecuteTime": {
     "end_time": "2019-12-16T01:40:08.686794Z",
     "start_time": "2019-12-16T01:40:08.339059Z"
    }
   },
   "outputs": [],
   "source": [
    "X = DOW_return_monthly.values\n",
    "Y = BTC_return_monthly.values\n",
    "Alpha, Beta = linear_regression(X,Y)\n",
    "X2 = np.linspace(X.min(), X.max(), 100)\n",
    "Y_tilda = X2* Beta + Alpha\n",
    "pl.scatter(X,Y, alpha = 0.3)\n",
    "pl.xlabel(\"Dow-Jones Monthly return\")\n",
    "pl.ylabel(\"BTC Monthly return\")\n",
    "pl.plot(X2, Y_tilda, 'r', alpha = 0.9)\n",
    "pl.show()\n",
    "Slope, Intercept, R_Value, P_Value, Std_Err = scipy.stats.linregress(X, Y)\n",
    "print(\"Alpha = \" + str(Alpha) + \"\\n\")\n",
    "print(\"R_Value = \" +  str(R_Value) + \"\\n\")\n",
    "print(\"Slope = \" +   str(Slope) + \"\\n\")\n",
    "print(\"Std_Err = \" +  str(Std_Err) + \"\\n\")"
   ]
  },
  {
   "cell_type": "code",
   "execution_count": null,
   "metadata": {
    "ExecuteTime": {
     "end_time": "2019-12-16T01:40:22.802105Z",
     "start_time": "2019-12-16T01:40:22.792193Z"
    }
   },
   "outputs": [],
   "source": [
    "dataframe = pd.concat([BTC_return_monthly, DOW_return_monthly], axis=1)"
   ]
  },
  {
   "cell_type": "code",
   "execution_count": null,
   "metadata": {
    "ExecuteTime": {
     "end_time": "2019-12-16T01:40:24.728302Z",
     "start_time": "2019-12-16T01:40:24.720775Z"
    }
   },
   "outputs": [],
   "source": [
    "dataframe.columns = ['BTC-Monthly', 'Dow-Monthly']"
   ]
  },
  {
   "cell_type": "code",
   "execution_count": null,
   "metadata": {
    "ExecuteTime": {
     "end_time": "2019-12-16T01:40:27.575519Z",
     "start_time": "2019-12-16T01:40:27.049871Z"
    },
    "scrolled": true
   },
   "outputs": [],
   "source": [
    "sns.pairplot(dataframe, x_vars=['Dow-Monthly'], y_vars='BTC-Monthly', height = 4.5, aspect = 2.0, kind='reg')"
   ]
  },
  {
   "cell_type": "code",
   "execution_count": null,
   "metadata": {},
   "outputs": [],
   "source": []
  },
  {
   "cell_type": "code",
   "execution_count": null,
   "metadata": {
    "ExecuteTime": {
     "end_time": "2019-12-16T01:40:31.720032Z",
     "start_time": "2019-12-16T01:40:30.819293Z"
    }
   },
   "outputs": [],
   "source": [
    "import pymc3 as pm\n",
    "lin_model = pm.Model()"
   ]
  },
  {
   "cell_type": "code",
   "execution_count": null,
   "metadata": {
    "ExecuteTime": {
     "end_time": "2019-12-16T01:40:46.304130Z",
     "start_time": "2019-12-16T01:40:33.491376Z"
    }
   },
   "outputs": [],
   "source": [
    "with lin_model:\n",
    "    intercept = pm.Normal('intercept',mu=0, sd = 20)\n",
    "    beta = pm.Normal('beta',0, sd = 20)\n",
    "    sigma = pm.HalfCauchy('sigma', beta = 10)\n",
    "    likelihood = pm.Normal('Y', mu = intercept + beta * DOW_return_monthly, sd = sigma, observed = BTC_return_monthly)\n",
    "    trace = pm.sample(3000)"
   ]
  },
  {
   "cell_type": "code",
   "execution_count": null,
   "metadata": {
    "ExecuteTime": {
     "end_time": "2019-11-30T22:45:57.434295Z",
     "start_time": "2019-11-30T22:45:55.736810Z"
    }
   },
   "outputs": [],
   "source": [
    "pl.figure(figsize=(7, 7))\n",
    "pm.traceplot(trace[100:])\n",
    "pl.tight_layout();"
   ]
  },
  {
   "cell_type": "code",
   "execution_count": null,
   "metadata": {
    "ExecuteTime": {
     "end_time": "2019-11-30T22:45:58.956260Z",
     "start_time": "2019-11-30T22:45:57.437687Z"
    }
   },
   "outputs": [],
   "source": [
    "pm.plot_posterior(trace)"
   ]
  },
  {
   "cell_type": "code",
   "execution_count": null,
   "metadata": {
    "ExecuteTime": {
     "end_time": "2019-12-16T01:40:47.255894Z",
     "start_time": "2019-12-16T01:40:46.425686Z"
    }
   },
   "outputs": [],
   "source": [
    "import numpy as np\n",
    "n_samples = 500\n",
    "x_range = np.linspace(DOW_return_monthly.min(),DOW_return_monthly.max())\n",
    "\n",
    "\n",
    "for i in np.arange(n_samples,step=10):\n",
    "    yhat = trace['intercept'][i] + trace['beta'][i] * x_range\n",
    "    pl.plot(x_range,yhat,color='k',alpha = 0.2)\n",
    "    pl.scatter(DOW_return_monthly,BTC_return_monthly,color='r',marker='+', label = \"data\")\n",
    "    pl.ylabel('BTC monthly return')\n",
    "    pl.xlabel('DOW-Jones monthly return')"
   ]
  },
  {
   "cell_type": "code",
   "execution_count": null,
   "metadata": {
    "ExecuteTime": {
     "end_time": "2019-11-30T22:45:59.980783Z",
     "start_time": "2019-11-30T22:45:59.961020Z"
    }
   },
   "outputs": [],
   "source": [
    "diverging = trace['diverging']\n",
    "print('Number of Divergent Chains: {}'.format(diverging.nonzero()[0].size))\n",
    "diverging_perc = diverging.nonzero()[0].size / len(trace) * 100\n",
    "print('Percentage of Divergent Chains: {:.1f}'.format(diverging_perc))"
   ]
  },
  {
   "cell_type": "code",
   "execution_count": null,
   "metadata": {
    "ExecuteTime": {
     "end_time": "2019-11-30T22:46:00.529445Z",
     "start_time": "2019-11-30T22:45:59.992303Z"
    }
   },
   "outputs": [],
   "source": [
    "pm.forestplot(trace)"
   ]
  },
  {
   "cell_type": "code",
   "execution_count": null,
   "metadata": {
    "ExecuteTime": {
     "end_time": "2019-11-30T22:46:00.657701Z",
     "start_time": "2019-11-30T22:46:00.540693Z"
    }
   },
   "outputs": [],
   "source": [
    "pm.summary(trace)"
   ]
  },
  {
   "cell_type": "code",
   "execution_count": null,
   "metadata": {
    "ExecuteTime": {
     "end_time": "2019-11-30T22:46:00.685497Z",
     "start_time": "2019-11-30T22:46:00.673060Z"
    }
   },
   "outputs": [],
   "source": [
    "BTC_return_monthly.shape"
   ]
  },
  {
   "cell_type": "code",
   "execution_count": null,
   "metadata": {
    "ExecuteTime": {
     "end_time": "2019-11-30T22:46:00.733339Z",
     "start_time": "2019-11-30T22:46:00.689192Z"
    }
   },
   "outputs": [],
   "source": [
    "BTC"
   ]
  },
  {
   "cell_type": "code",
   "execution_count": null,
   "metadata": {
    "ExecuteTime": {
     "end_time": "2019-11-30T22:46:36.405069Z",
     "start_time": "2019-11-30T22:46:36.334636Z"
    }
   },
   "outputs": [],
   "source": [
    "pm.summary(trace)['Rhat']"
   ]
  },
  {
   "cell_type": "code",
   "execution_count": null,
   "metadata": {
    "ExecuteTime": {
     "end_time": "2019-11-30T22:50:09.760680Z",
     "start_time": "2019-11-30T22:50:06.589449Z"
    }
   },
   "outputs": [],
   "source": [
    "pm.stats.waic(trace, model= lin_model, pointwise= False, progressbar=False)"
   ]
  },
  {
   "cell_type": "code",
   "execution_count": null,
   "metadata": {},
   "outputs": [],
   "source": []
  }
 ],
 "metadata": {
  "kernelspec": {
   "display_name": "Python 3",
   "language": "python",
   "name": "python3"
  },
  "language_info": {
   "codemirror_mode": {
    "name": "ipython",
    "version": 3
   },
   "file_extension": ".py",
   "mimetype": "text/x-python",
   "name": "python",
   "nbconvert_exporter": "python",
   "pygments_lexer": "ipython3",
   "version": "3.7.3"
  },
  "toc": {
   "base_numbering": 1,
   "nav_menu": {},
   "number_sections": true,
   "sideBar": true,
   "skip_h1_title": false,
   "title_cell": "Table of Contents",
   "title_sidebar": "Contents",
   "toc_cell": false,
   "toc_position": {},
   "toc_section_display": true,
   "toc_window_display": false
  },
  "varInspector": {
   "cols": {
    "lenName": 16,
    "lenType": 16,
    "lenVar": 40
   },
   "kernels_config": {
    "python": {
     "delete_cmd_postfix": "",
     "delete_cmd_prefix": "del ",
     "library": "var_list.py",
     "varRefreshCmd": "print(var_dic_list())"
    },
    "r": {
     "delete_cmd_postfix": ") ",
     "delete_cmd_prefix": "rm(",
     "library": "var_list.r",
     "varRefreshCmd": "cat(var_dic_list()) "
    }
   },
   "types_to_exclude": [
    "module",
    "function",
    "builtin_function_or_method",
    "instance",
    "_Feature"
   ],
   "window_display": false
  }
 },
 "nbformat": 4,
 "nbformat_minor": 2
}
